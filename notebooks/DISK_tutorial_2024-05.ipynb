{
 "cells": [
  {
   "cell_type": "markdown",
   "id": "00dfb2d4-d765-47a2-b4cc-a643b70fde25",
   "metadata": {},
   "source": [
    "# Deep Imputation for SKeleton Data (DISK) tutorial\n",
    "\n",
    "**Author: France ROSE, @Measuring Behavior 2024, Aberdeen**"
   ]
  },
  {
   "cell_type": "markdown",
   "id": "df038c09-5eca-4e52-b61c-87eff5677462",
   "metadata": {},
   "source": [
    "DISK addresses the problem of missing data in recordings of skeleton data, coming from video pose estimation or motion capture in 2D and 3D.\n",
    "It relies on a *totally unsupervised* training framework and has been tested on 7 datasets of different species, number of keypoints and behavioral tasks.\n",
    "\n",
    "**Training principle**\n",
    "\n",
    "<center><img src=\"images/imputation_method_summary_wskeleton.png\" width=700></center>\n",
    "\n",
    "\n",
    "**Comparison of imputation error on the different datasets**\n",
    "    \n",
    "<center><img src=\"images/barplot_newmissing_compare_networks.png\" width=800></center>\n",
    "\n",
    "- Link to the preprint:\n",
    "- Link to the githup repo: https://github.com/bozeklab/DISK.git\n",
    "\n",
    "--- \n",
    "In this tutorial we will:\n",
    "   - install DISK (takes about 15 minutes)\n",
    "   - see the configuration files system used in DISK\n",
    "   - launch a training of a model\n",
    "   - use a pretrained network to visualize imputed samples\n",
    "   - visualize the DISK learned representations via U-map\n",
    "   - use a pretrained network to impute real gaps\n",
    "   - discuss how to apply it on new data\n",
    "\n",
    "---\n",
    "*For google colab:* Go to \"Runtime\" ->\"change runtime type\"->select \"Python3\", and then select \"GPU\""
   ]
  },
  {
   "cell_type": "code",
   "execution_count": null,
   "id": "8067168e-8f5b-4d0f-a154-31e85c957dd1",
   "metadata": {},
   "outputs": [],
   "source": [
    "!git clone https://github.com/bozeklab/DISK.git cloned-DISK-repo\n",
    "%cd cloned-DISK-repo\n",
    "!ls"
   ]
  },
  {
   "cell_type": "code",
   "execution_count": null,
   "id": "7c7d5695-fa9c-408a-ad8f-91114716c54e",
   "metadata": {},
   "outputs": [],
   "source": [
    "!pip install -r DISK/requirements.txt -e ."
   ]
  },
  {
   "cell_type": "markdown",
   "id": "62e52d7f-b4bc-41c1-818f-c615a081a85a",
   "metadata": {},
   "source": [
    "*For google colab:* When this is done, you may need to restart the colab runtime to complete the installation. Go to Runtime > Restart runtime"
   ]
  },
  {
   "cell_type": "code",
   "execution_count": 1,
   "id": "6b596b27",
   "metadata": {},
   "outputs": [
    {
     "name": "stdout",
     "output_type": "stream",
     "text": [
      "/home/france/Documents/cloned-DISK-repo\n"
     ]
    }
   ],
   "source": [
    "import DISK\n",
    "import hydra\n",
    "from hydra import compose, initialize\n",
    "from omegaconf import OmegaConf\n",
    "import os\n",
    "\n",
    "%load_ext autoreload\n",
    "%autoreload 2\n",
    "\n",
    "basedir = '/home/france/Documents/cloned-DISK-repo'\n",
    "%cd $basedir"
   ]
  },
  {
   "cell_type": "markdown",
   "id": "7f76acb6-1561-4b11-bb98-e59fa1e08806",
   "metadata": {},
   "source": [
    "---\n",
    "# Train a DISK model"
   ]
  },
  {
   "cell_type": "markdown",
   "id": "a102aea1-625d-4df7-a7a1-1107308878eb",
   "metadata": {},
   "source": [
    "**Download test data**\n",
    "\n",
    "Human motion capture data rom the CMU MoCap dataset (see http://mocap.cs.cmu.edu/), doanloaded from https://ericguo5513.github.io/action-to-motion/##data\n",
    "\n",
    "<center><img src=\"notebooks/images/fig1_human_mocap_presentation.png\" width=200>"
   ]
  },
  {
   "cell_type": "code",
   "execution_count": 25,
   "id": "c30ae083-e60a-45bc-96aa-56a233319147",
   "metadata": {},
   "outputs": [
    {
     "name": "stdout",
     "output_type": "stream",
     "text": [
      "mkdir: cannot create directory ‘datasets’: File exists\n",
      "/home/france/Documents/cloned-DISK-repo/datasets\n",
      "Downloading...\n",
      "From (original): https://drive.google.com/uc?id=1PXECUljc5qr8kz9H2LxT4LhS6P4uN4ck\n",
      "From (redirected): https://drive.google.com/uc?id=1PXECUljc5qr8kz9H2LxT4LhS6P4uN4ck&confirm=t&uuid=47656a83-4908-4838-b85a-bf5d79ca63e2\n",
      "To: /home/france/Documents/cloned-DISK-repo/datasets/Human_DISK_dataset.zip\n",
      "100%|██████████████████████████████████████| 1.26G/1.26G [01:20<00:00, 15.7MB/s]\n",
      "Archive:  Human_DISK_dataset.zip\n",
      "replace Mocap_keypoints_60_stride30_new/test_dataset_w-0-nans.npz? [y]es, [n]o, [A]ll, [N]one, [r]ename: ^C\n",
      "/home/france/Documents/cloned-DISK-repo\n"
     ]
    }
   ],
   "source": [
    "!mkdir datasets\n",
    "%cd datasets\n",
    "!gdown https://drive.google.com/uc?id=1PXECUljc5qr8kz9H2LxT4LhS6P4uN4ck\n",
    "!unzip Human_DISK_dataset.zip\n",
    "%cd ../"
   ]
  },
  {
   "cell_type": "markdown",
   "id": "f49d4e16-7340-47af-af16-60c1e8d4c30c",
   "metadata": {},
   "source": [
    "**Change in `conf_missing.yaml`:**\n",
    "- defaults.network=gru\n",
    "- training.epochs=10\n",
    "- training.print_every=3\n",
    "- dataset.name=Mocap_keypoints_60_stride30_new\n",
    "- dataset.skeleton_file=Mocap_keypoints_60_stride30_new/skeleton.py\n",
    "- feed_data.transforms.add_missing.files=[Mocap_keypoints_60_stride30_new/proba_missing_uniform.csv, \\\n",
    "                                          Mocap_keypoints_60_stride30_new/proba_missing_length_uniform.csv]"
   ]
  },
  {
   "cell_type": "markdown",
   "id": "62bb9817-610d-4456-9a7e-a375b56680f4",
   "metadata": {},
   "source": [
    "**Comment on lists in the `config` files**\n",
    "\n",
    "You can use either of the two following syntaxes:\n",
    "\n",
    "- Dash + new line\n",
    "```\n",
    "files:\n",
    "  - file1\n",
    "  - file2\n",
    "```\n",
    "\n",
    "- Python-like list, items separated by a comma\n",
    "```\n",
    "files: [file1, file2]\n",
    "```"
   ]
  },
  {
   "cell_type": "markdown",
   "id": "4dd1f0d2-35a3-409d-ba39-5a69f21b39e7",
   "metadata": {},
   "source": [
    "**Run Training**"
   ]
  },
  {
   "cell_type": "code",
   "execution_count": 15,
   "id": "34d820e9",
   "metadata": {},
   "outputs": [
    {
     "name": "stdout",
     "output_type": "stream",
     "text": [
      "[2024-04-18 15:00:48,884][root][INFO] - basedir: /home/france/Documents/cloned-DISK-repo\n",
      "[2024-04-18 15:00:48,885][root][INFO] - {'network': {'num_layers': 3, 'dropout': 0, 'type': 'GRU', 'size_layer': 512}, 'dataset': {'name': 'Mocap_keypoints_60_stride30_new', 'skeleton_file': 'Mocap_keypoints_60_stride30_new/skeleton.py'}, 'training': {'epochs': 10, 'batch_size': 32, 'learning_rate': 0.001, 'seed': False, 'load': None, 'n_cpus': 8, 'loss': {'type': 'l1', 'mask': True, 'factor': 100}, 'model_scheduler': {'type': 'lambdalr', 'steps_epoch': 500, 'rate': 0.95}, 'print_every': 3, 'mu_sigma': False, 'beta_mu_sigma': 0.5}, 'feed_data': {'mask': True, 'transforms': {'add_missing': {'pad': [1, 0], 'indep_keypoints': True, 'files': ['Mocap_keypoints_60_stride30_new/proba_missing_uniform.csv', 'Mocap_keypoints_60_stride30_new/proba_missing_length_uniform.csv']}, 'viewinvariant': False, 'normalize': False, 'normalizecube': True}, 'verbose': 0}}\n",
      "[2024-04-18 15:00:48,925][root][INFO] - Device: cuda\n",
      "[2024-04-18 15:00:48,931][root][INFO] - Loading datasets...\n",
      "[2024-04-18 15:00:49,376][root][INFO] - Loaded skeleton with links [(0, 1), (1, 2), (2, 3), (0, 16), (16, 17), (17, 18), (18, 19), (0, 12), (12, 13), (13, 14), (14, 15), (1, 8), (8, 9), (9, 10), (10, 11), (1, 4), (4, 5), (5, 6), (6, 7)] and colors ['orange', 'orange', 'orange', 'gold', 'gold', 'gold', 'gold', 'grey', 'grey', 'grey', 'grey', 'cornflowerblue', 'cornflowerblue', 'cornflowerblue', 'cornflowerblue', 'turquoise', 'turquoise', 'turquoise', 'turquoise']\n",
      "[2024-04-18 15:00:49,756][root][INFO] - Loaded skeleton with links [(0, 1), (1, 2), (2, 3), (0, 16), (16, 17), (17, 18), (18, 19), (0, 12), (12, 13), (13, 14), (14, 15), (1, 8), (8, 9), (9, 10), (10, 11), (1, 4), (4, 5), (5, 6), (6, 7)] and colors ['orange', 'orange', 'orange', 'gold', 'gold', 'gold', 'gold', 'grey', 'grey', 'grey', 'grey', 'cornflowerblue', 'cornflowerblue', 'cornflowerblue', 'cornflowerblue', 'turquoise', 'turquoise', 'turquoise', 'turquoise']\n",
      "[2024-04-18 15:00:49,841][root][INFO] - Loaded skeleton with links [(0, 1), (1, 2), (2, 3), (0, 16), (16, 17), (17, 18), (18, 19), (0, 12), (12, 13), (13, 14), (14, 15), (1, 8), (8, 9), (9, 10), (10, 11), (1, 4), (4, 5), (5, 6), (6, 7)] and colors ['orange', 'orange', 'orange', 'gold', 'gold', 'gold', 'gold', 'grey', 'grey', 'grey', 'grey', 'cornflowerblue', 'cornflowerblue', 'cornflowerblue', 'cornflowerblue', 'turquoise', 'turquoise', 'turquoise', 'turquoise']\n",
      "[2024-04-18 15:00:49,881][root][INFO] - Initializing prediction model...\n",
      "[2024-04-18 15:00:52,395][root][INFO] - BiGRU(\n",
      "  (gru): GRU(80, 512, num_layers=3, batch_first=True, bidirectional=True)\n",
      "  (dropout): Dropout(p=0, inplace=False)\n",
      "  (linear): Linear(in_features=512, out_features=60, bias=True)\n",
      ")\n",
      "[2024-04-18 15:00:52,397][root][INFO] - Nb of NN parameters: 11305020\n",
      "[2024-04-18 15:01:54,423][root][INFO] - Epoch   3: TrainLoss 26.105516 EvalLoss 27.091455 \n",
      "[2024-04-18 15:01:54,432][root][INFO] -            TrainRMSE 0.261055 EvalRMSE 0.270915 \n",
      "[2024-04-18 15:01:54,433][root][INFO] -            Time since beginning: 1m 02s (- 4m 08s) -- Completed: 20.0% \n",
      "\n",
      "[2024-04-18 15:01:54,436][root][INFO] - saving model...\n",
      "[2024-04-18 15:03:00,654][root][INFO] - Epoch   6: TrainLoss 20.919576 EvalLoss 22.485460 \n",
      "[2024-04-18 15:03:00,656][root][INFO] -            TrainRMSE 0.209196 EvalRMSE 0.224855 \n",
      "[2024-04-18 15:03:00,657][root][INFO] -            Time since beginning: 2m 08s (- 2m 08s) -- Completed: 50.0% \n",
      "\n",
      "[2024-04-18 15:03:00,677][root][INFO] - saving model...\n",
      "[2024-04-18 15:04:09,028][root][INFO] - Epoch   9: TrainLoss 17.763754 EvalLoss 18.863413 \n",
      "[2024-04-18 15:04:09,029][root][INFO] -            TrainRMSE 0.177638 EvalRMSE 0.188634 \n",
      "[2024-04-18 15:04:09,030][root][INFO] -            Time since beginning: 3m 16s (- 0m 49s) -- Completed: 80.0% \n",
      "\n",
      "[2024-04-18 15:04:09,051][root][INFO] - saving model...\n"
     ]
    }
   ],
   "source": [
    "%run DISK/main_fillmissing.py"
   ]
  },
  {
   "cell_type": "markdown",
   "id": "cad07689-7967-407a-9ca0-2b16fcb792a3",
   "metadata": {},
   "source": [
    "---\n",
    "# Download a pretrain model"
   ]
  },
  {
   "cell_type": "code",
   "execution_count": 3,
   "id": "d0f6bc81",
   "metadata": {},
   "outputs": [
    {
     "name": "stdout",
     "output_type": "stream",
     "text": [
      "mkdir: cannot create directory ‘models’: File exists\n",
      "/home/france/Documents/cloned-DISK-repo/models\n",
      "Downloading...\n",
      "From: https://drive.google.com/uc?id=1b8Px-lbTddOrMZW9dozJPVLjxh0PjnTp\n",
      "To: /home/france/Documents/cloned-DISK-repo/models/Human_transformer_proba.zip\n",
      "100%|██████████████████████████████████████| 4.54M/4.54M [00:00<00:00, 24.7MB/s]\n",
      "Archive:  Human_transformer_proba.zip\n",
      "   creating: 03-10-24_transformer_NLL/\n",
      "  inflating: 03-10-24_transformer_NLL/training_losses.txt  \n",
      "  inflating: 03-10-24_transformer_NLL/main_fillmissing.log  \n",
      "  inflating: 03-10-24_transformer_NLL/loss.svg  \n",
      "  inflating: 03-10-24_transformer_NLL/model_epoch1470  \n",
      "   creating: 03-10-24_transformer_NLL/.hydra/\n",
      "  inflating: 03-10-24_transformer_NLL/.hydra/config.yaml  \n",
      "  inflating: 03-10-24_transformer_NLL/.hydra/overrides.yaml  \n",
      "  inflating: 03-10-24_transformer_NLL/.hydra/hydra.yaml  \n",
      "  inflating: 03-10-24_transformer_NLL/loss_dark.svg  \n",
      "Downloading...\n",
      "From (original): https://drive.google.com/uc?id=1tGL8eyafpwJS7wdNGB5o_tuABd8qOBHB\n",
      "From (redirected): https://drive.google.com/uc?id=1tGL8eyafpwJS7wdNGB5o_tuABd8qOBHB&confirm=t&uuid=79936782-3957-4a02-8f3d-f3a731ac4413\n",
      "To: /home/france/Documents/cloned-DISK-repo/models/Human_GRU.zip\n",
      "100%|████████████████████████████████████████| 250M/250M [00:08<00:00, 28.9MB/s]\n",
      "Archive:  Human_GRU.zip\n",
      "   creating: 03-07-06_GRU/\n",
      "  inflating: 03-07-06_GRU/training_losses.txt  \n",
      "  inflating: 03-07-06_GRU/model_last_epoch1500  \n",
      "  inflating: 03-07-06_GRU/main_fillmissing.log  \n",
      "  inflating: 03-07-06_GRU/model_epoch1480  \n",
      "  inflating: 03-07-06_GRU/loss.svg   \n",
      "   creating: 03-07-06_GRU/.hydra/\n",
      "  inflating: 03-07-06_GRU/.hydra/config.yaml  \n",
      "  inflating: 03-07-06_GRU/.hydra/overrides.yaml  \n",
      "  inflating: 03-07-06_GRU/.hydra/hydra.yaml  \n",
      "  inflating: 03-07-06_GRU/loss_dark.svg  \n",
      "/home/france/Documents/cloned-DISK-repo\n"
     ]
    }
   ],
   "source": [
    "!mkdir models\n",
    "%cd models\n",
    "!gdown https://drive.google.com/uc?id=1b8Px-lbTddOrMZW9dozJPVLjxh0PjnTp\n",
    "!unzip Human_transformer_proba.zip\n",
    "!gdown https://drive.google.com/uc?id=1tGL8eyafpwJS7wdNGB5o_tuABd8qOBHB\n",
    "!unzip Human_GRU.zip\n",
    "%cd ../"
   ]
  },
  {
   "cell_type": "markdown",
   "id": "c0ce5abb-00e8-405b-9468-a621e9bc8c4f",
   "metadata": {},
   "source": [
    "# Use pretrain model to test imputation and generate plots "
   ]
  },
  {
   "cell_type": "markdown",
   "id": "a2b2d178-dfdf-45a7-9ac6-44e6d57f564c",
   "metadata": {},
   "source": [
    "**Change in `conf_test.yaml`:**\n",
    "- hydra.run.dir: models/test_Human\n",
    "- dataset.name=Mocap_keypoints_60_stride30_new\n",
    "- dataset.skeleton_file=Mocap_keypoints_60_stride30_new/skeleton.py\n",
    "- feed_data.transforms.add_missing = [Mocap_keypoints_60_stride30_new/proba_missing_uniform.csv,\n",
    "                                      Mocap_keypoints_60_stride30_new/proba_missing_length_uniform.csv]\n",
    "- evaluate.chepoints=[models/03-07-06_GRU, models/03-10-24_transformer_NLL]\n",
    "- evaluate.n_plots=10\n"
   ]
  },
  {
   "cell_type": "code",
   "execution_count": 2,
   "id": "a60563a6-9227-494c-9454-94847399c86a",
   "metadata": {},
   "outputs": [
    {
     "name": "stderr",
     "output_type": "stream",
     "text": [
      "[DEBUG][19-Apr-24 16:16:53] Setting JobRuntime:name=UNKNOWN_NAME\n",
      "[DEBUG][19-Apr-24 16:16:53] Setting JobRuntime:name=test_fillmissing\n"
     ]
    },
    {
     "name": "stdout",
     "output_type": "stream",
     "text": [
      "[2024-04-19 16:16:53,569][root][INFO] - [BASEDIR] /home/france/Documents/cloned-DISK-repo\n",
      "[2024-04-19 16:16:53,569][root][INFO] - [OUTPUT DIR] /home/france/Documents/cloned-DISK-repo/models/test_Human\n",
      "[2024-04-19 16:16:53,570][root][INFO] - {'dataset': {'name': 'Mocap_keypoints_60_stride30_new', 'stride': 30, 'skeleton_file': 'Mocap_keypoints_60_stride30_new/skeleton.py'}, 'feed_data': {'mask': True, 'transforms': {'add_missing': {'pad': [1, 1], 'files': ['Mocap_keypoints_60_stride30_new/proba_missing_uniform.csv', 'Mocap_keypoints_60_stride30_new/proba_missing_length_uniform.csv']}, 'viewinvariant': True, 'normalize': False, 'normalizecube': True}, 'verbose': 0}, 'evaluate': {'n_cpus': 6, 'batch_size': 8, 'checkpoints': ['models/03-07-06_GRU', 'models/03-10-24_transformer_NLL'], 'n_plots': 10, 'azim': 60, 'size': 2.5, 'only_holes': True, 'original_coordinates': False, 'suffix': '', 'name_items': [['network', 'type'], ['training', 'mu_sigma']], 'merge': True, 'merge_sets_file': '', 'n_repeat': 1}}\n",
      "[2024-04-19 16:16:53,571][root][INFO] - Loaded skeleton with links [(0, 1), (1, 2), (2, 3), (0, 16), (16, 17), (17, 18), (18, 19), (0, 12), (12, 13), (13, 14), (14, 15), (1, 8), (8, 9), (9, 10), (10, 11), (1, 4), (4, 5), (5, 6), (6, 7)] and colors ['orange', 'orange', 'orange', 'gold', 'gold', 'gold', 'gold', 'grey', 'grey', 'grey', 'grey', 'cornflowerblue', 'cornflowerblue', 'cornflowerblue', 'cornflowerblue', 'turquoise', 'turquoise', 'turquoise', 'turquoise']\n",
      "[2024-04-19 16:16:53,637][__main__][INFO] - Device: cuda\n",
      "[2024-04-19 16:16:53,638][root][INFO] - Found model at path /home/france/Documents/cloned-DISK-repo/models/03-07-06_GRU/model_epoch1480\n",
      "[2024-04-19 16:16:53,644][root][INFO] - Found model at path /home/france/Documents/cloned-DISK-repo/models/03-10-24_transformer_NLL/model_epoch1470\n",
      "[2024-04-19 16:16:53,650][root][INFO] - Number of compared models: 2\n",
      "[2024-04-19 16:16:53,650][root][INFO] - Device: cuda\n",
      "[2024-04-19 16:16:53,651][root][INFO] - Loading prediction model...\n",
      "[2024-04-19 16:16:56,191][root][INFO] - Network type-GRU_mu_sigma-False constructed\n",
      "[2024-04-19 16:16:56,202][root][INFO] - Network type-transformer_mu_sigma-True constructed\n",
      "[2024-04-19 16:16:56,286][root][INFO] - Loading with epoch = 1480\n",
      "[2024-04-19 16:16:56,286][root][INFO] - Loading with ave_loss_train = 3.073562593708251\n",
      "[2024-04-19 16:16:56,287][root][INFO] - Loading with ave_rmse_train = 0.030735625902737828\n",
      "[2024-04-19 16:16:56,287][root][INFO] - Loading with ave_loss_eval = 3.5230911786739645\n",
      "[2024-04-19 16:16:56,288][root][INFO] - Loading with ave_rmse_eval = 0.035230911981600985\n",
      "[2024-04-19 16:16:56,288][root][INFO] - Loading with lr = 9.025e-05\n",
      "[2024-04-19 16:16:56,288][root][INFO] - Loading with print_every = 10\n",
      "[2024-04-19 16:16:56,308][root][INFO] - Loading with epoch = 1470\n",
      "[2024-04-19 16:16:56,308][root][INFO] - Loading with ave_loss_train = -92.11919800145033\n",
      "[2024-04-19 16:16:56,309][root][INFO] - Loading with ave_rmse_train = 0.024657995028068144\n",
      "[2024-04-19 16:16:56,309][root][INFO] - Loading with ave_loss_eval = -90.12528375478891\n",
      "[2024-04-19 16:16:56,309][root][INFO] - Loading with ave_rmse_eval = 0.024595296655136805\n",
      "[2024-04-19 16:16:56,309][root][INFO] - Loading with lr = 0.0009025\n",
      "[2024-04-19 16:16:56,310][root][INFO] - Loading with print_every = 10\n",
      "[2024-04-19 16:16:56,316][__main__][INFO] - Loading datasets...\n",
      "[2024-04-19 16:16:58,665][root][INFO] - Loaded skeleton with links [(0, 1), (1, 2), (2, 3), (0, 16), (16, 17), (17, 18), (18, 19), (0, 12), (12, 13), (13, 14), (14, 15), (1, 8), (8, 9), (9, 10), (10, 11), (1, 4), (4, 5), (5, 6), (6, 7)] and colors ['orange', 'orange', 'orange', 'gold', 'gold', 'gold', 'gold', 'grey', 'grey', 'grey', 'grey', 'cornflowerblue', 'cornflowerblue', 'cornflowerblue', 'cornflowerblue', 'turquoise', 'turquoise', 'turquoise', 'turquoise']\n",
      "[2024-04-19 16:16:59,452][root][INFO] - Loaded skeleton with links [(0, 1), (1, 2), (2, 3), (0, 16), (16, 17), (17, 18), (18, 19), (0, 12), (12, 13), (13, 14), (14, 15), (1, 8), (8, 9), (9, 10), (10, 11), (1, 4), (4, 5), (5, 6), (6, 7)] and colors ['orange', 'orange', 'orange', 'gold', 'gold', 'gold', 'gold', 'grey', 'grey', 'grey', 'grey', 'cornflowerblue', 'cornflowerblue', 'cornflowerblue', 'cornflowerblue', 'turquoise', 'turquoise', 'turquoise', 'turquoise']\n",
      "[2024-04-19 16:16:59,647][root][INFO] - Loaded skeleton with links [(0, 1), (1, 2), (2, 3), (0, 16), (16, 17), (17, 18), (18, 19), (0, 12), (12, 13), (13, 14), (14, 15), (1, 8), (8, 9), (9, 10), (10, 11), (1, 4), (4, 5), (5, 6), (6, 7)] and colors ['orange', 'orange', 'orange', 'gold', 'gold', 'gold', 'gold', 'grey', 'grey', 'grey', 'grey', 'cornflowerblue', 'cornflowerblue', 'cornflowerblue', 'cornflowerblue', 'turquoise', 'turquoise', 'turquoise', 'turquoise']\n",
      "[2024-04-19 16:16:59,716][root][INFO] - Starting evaluation...\n"
     ]
    },
    {
     "name": "stderr",
     "output_type": "stream",
     "text": [
      "Iterating on batch:   0%|                               | 0/116 [00:00<?, ?it/s]"
     ]
    },
    {
     "name": "stdout",
     "output_type": "stream",
     "text": [
      "[2024-04-19 16:17:00,315][root][INFO] - Starting sample plots\n",
      "[2024-04-19 16:18:12,694][root][INFO] - Done with sample plots\n"
     ]
    },
    {
     "name": "stderr",
     "output_type": "stream",
     "text": [
      "Iterating on batch:   1%|▏                    | 1/116 [01:12<2:19:47, 72.93s/it]"
     ]
    },
    {
     "name": "stdout",
     "output_type": "stream",
     "text": [
      "[2024-04-19 16:18:13,092][root][INFO] - Starting sample plots\n",
      "[2024-04-19 16:19:25,869][root][INFO] - Done with sample plots\n"
     ]
    },
    {
     "name": "stderr",
     "output_type": "stream",
     "text": [
      "Iterating on batch: 100%|█████████████████████| 116/116 [03:01<00:00,  1.57s/it]"
     ]
    },
    {
     "name": "stdout",
     "output_type": "stream",
     "text": [
      "[2024-04-19 16:20:01,634][root][INFO] - Finished with iterating the dataset\n",
      "[2024-04-19 16:20:01,659][root][INFO] - n lines in result df: 13447\n",
      "[2024-04-19 16:20:01,665][root][INFO] - RMSE per sample averaged: \n",
      "method_param\n",
      "linear_interp                     0.232473\n",
      "type-GRU_mu_sigma-False           0.029953\n",
      "type-transformer_mu_sigma-True    0.021518\n",
      "Name: RMSE, dtype: Float64\n"
     ]
    },
    {
     "name": "stderr",
     "output_type": "stream",
     "text": [
      "\n"
     ]
    },
    {
     "name": "stdout",
     "output_type": "stream",
     "text": [
      "[2024-04-19 16:20:14,096][root][INFO] - Model type-transformer_mu_sigma-True: PEARSONR COEFF 0.9178670134396143, PVAL 0.0\n"
     ]
    }
   ],
   "source": [
    "%run DISK/test_fillmissing.py"
   ]
  },
  {
   "cell_type": "markdown",
   "id": "5629b9d5-42a6-4b36-b25c-3653580bb5bf",
   "metadata": {},
   "source": [
    "---\n",
    "\n",
    "In the output log `test_fillmissing.log`, you can find 2 interesting informations:\n",
    "- Number of tested samples: `n lines in result df: 4626`\n",
    "- Averaged normalized RMSE for each tested method on these N samples:\n",
    "```\n",
    "RMSE per sample averaged: \n",
    "method_param\n",
    "linear_interp                     0.232473\n",
    "type-GRU_mu_sigma-False           0.029953\n",
    "type-transformer_mu_sigma-True    0.021518\n",
    "Name: RMSE, dtype: Float64\n",
    "```\n",
    "\n",
    "Runing the test scripts created a few files:\n",
    "- In `models/test_Human`\n",
    "  - `barplot_comparison_RMSE_...png` gives the RMSE per keypoint for the compared methods\n",
    "  ⁻  `comparison_length_hole_[all/kp]_vs_RMSE_...png` gives the RMSE wrt the length of the gap for the compared methods. The difference between the 2 plots are when a sample has multiple gaps, then \"all\" averages the RMSE per sample, while \"kp\" averages the RMSE per hole\n",
    "  - `mean_RMSE.csv` reports what was in the log, i.e. the \"RMSE per sample averaged\"\n",
    "  - `total_RMSE_...csv` reports the error on every gap of every sample, and can be used to further analyze the performance of the models\n",
    "  - if a model with proba head was tested, then `corrplot...png` correlationg between the estimated error per sample and the real error made by the imputation, and `thresholding_curve...png` which shows how the RMSE in the imputed samples varies with the number of remaining samples\n",
    "- In `models/03-07-06_GRU/test/visualize_prediction_val`, plots with example of imputations\n",
    "\n",
    "**Comparison of RMSE**\n",
    "\n",
    "<center><img src=\"notebooks/images/human_comparison_length_hole_all_vs_RMSE_repeat-0.png\" width=500></center>\n",
    "\n",
    "**Example of imputation**\n",
    "\n",
    "<center><img src=\"notebooks/images/human_reconstruction_xyz_0_repeat-0.png\" width=500>"
   ]
  },
  {
   "cell_type": "markdown",
   "id": "74da0cc7-6356-4633-bfd8-2db90dd9384e",
   "metadata": {},
   "source": [
    "# U-map of the sequences"
   ]
  },
  {
   "cell_type": "code",
   "execution_count": 4,
   "id": "453deb2b-9aff-4e2b-9735-927eced191a0",
   "metadata": {},
   "outputs": [
    {
     "name": "stderr",
     "output_type": "stream",
     "text": [
      "[INFO][02-May-24 11:37:05] Loaded skeleton with links [(0, 1), (1, 2), (2, 3), (0, 16), (16, 17), (17, 18), (18, 19), (0, 12), (12, 13), (13, 14), (14, 15), (1, 8), (8, 9), (9, 10), (10, 11), (1, 4), (4, 5), (5, 6), (6, 7)] and colors ['orange', 'orange', 'orange', 'gold', 'gold', 'gold', 'gold', 'grey', 'grey', 'grey', 'grey', 'cornflowerblue', 'cornflowerblue', 'cornflowerblue', 'cornflowerblue', 'turquoise', 'turquoise', 'turquoise', 'turquoise']\n",
      "[INFO][02-May-24 11:37:05] Loading datasets...\n",
      "[INFO][02-May-24 11:37:07] Device: cuda\n",
      "[INFO][02-May-24 11:37:07] Loading transformer model...\n",
      "[INFO][02-May-24 11:37:07] Network constructed\n",
      "[INFO][02-May-24 11:37:07] Loading with epoch = 1470\n",
      "[INFO][02-May-24 11:37:07] Loading with ave_loss_train = -92.11919800145033\n",
      "[INFO][02-May-24 11:37:07] Loading with ave_rmse_train = 0.024657995028068144\n",
      "[INFO][02-May-24 11:37:07] Loading with ave_loss_eval = -90.12528375478891\n",
      "[INFO][02-May-24 11:37:07] Loading with ave_rmse_eval = 0.024595296655136805\n",
      "[INFO][02-May-24 11:37:07] Loading with lr = 0.0009025\n",
      "[INFO][02-May-24 11:37:07] Loading with print_every = 10\n",
      "[INFO][02-May-24 11:37:07] Extract hidden representation...\n",
      "Extract hidden:  53%|############1          | 2000/3794 [00:27<00:24, 72.23it/s]\n"
     ]
    },
    {
     "name": "stdout",
     "output_type": "stream",
     "text": [
      "(2000, 2)\n"
     ]
    },
    {
     "name": "stderr",
     "output_type": "stream",
     "text": [
      "[INFO][02-May-24 11:37:35] Done with train hidden representation...\n",
      "Extract hidden: 100%|#########################| 434/434 [00:07<00:00, 61.20it/s]\n",
      "[INFO][02-May-24 11:37:42] Done with val hidden representation...\n",
      "[INFO][02-May-24 11:37:42] hidden eval vectors (434, 153600)\n",
      "[INFO][02-May-24 11:37:42] hidden train vectors (2000, 153600)\n",
      "[INFO][02-May-24 11:37:42] columns: ['file', 'action', 'action_str', 'movement', 'upside_down', 'speed_xy', 'speed_z', 'average_height', 'back_length', 'dist_barycenter_shoulders', 'height_shoulders', 'angleXY_shoulders', 'dist_bw_knees', 'dist_knees_shoulders', 'angle_back_base']\n",
      "[INFO][02-May-24 11:37:42] Computing the umap projection\n"
     ]
    },
    {
     "name": "stdout",
     "output_type": "stream",
     "text": [
      "(434, 2)\n"
     ]
    },
    {
     "name": "stderr",
     "output_type": "stream",
     "text": [
      "[INFO][02-May-24 11:39:14] Finished projecting\n",
      "[INFO][02-May-24 11:39:16] Finished projecting on the train\n",
      "[INFO][02-May-24 11:39:54] Finished projecting on the eval\n",
      "[INFO][02-May-24 11:39:54] Apply k-means...\n",
      "[INFO][02-May-24 11:42:17] drawing umap with colors = file\n",
      "[INFO][02-May-24 11:42:17] drawing umap with colors = action\n",
      "[INFO][02-May-24 11:42:17] drawing umap with colors = action_str\n",
      "[INFO][02-May-24 11:42:17] drawing umap with colors = movement\n",
      "[INFO][02-May-24 11:42:17] drawing umap with colors = upside_down\n",
      "[INFO][02-May-24 11:42:17] drawing umap with colors = speed_xy\n",
      "[INFO][02-May-24 11:42:17] drawing umap with colors = speed_z\n",
      "[INFO][02-May-24 11:42:18] drawing umap with colors = average_height\n",
      "[INFO][02-May-24 11:42:18] drawing umap with colors = back_length\n",
      "[INFO][02-May-24 11:42:18] drawing umap with colors = dist_barycenter_shoulders\n",
      "[INFO][02-May-24 11:42:18] drawing umap with colors = height_shoulders\n",
      "[INFO][02-May-24 11:42:18] drawing umap with colors = angleXY_shoulders\n",
      "[INFO][02-May-24 11:42:18] drawing umap with colors = dist_bw_knees\n",
      "[INFO][02-May-24 11:42:18] drawing umap with colors = dist_knees_shoulders\n",
      "[INFO][02-May-24 11:42:19] drawing umap with colors = angle_back_base\n",
      "[INFO][02-May-24 11:42:19] drawing umap with colors = cluster\n",
      "[INFO][02-May-24 11:42:19] drawing umap overview\n",
      "[INFO][02-May-24 11:42:21] Saving data in csv and npy\n",
      "/home/france/anaconda3/envs/hyperion/lib/python3.8/site-packages/sklearn/preprocessing/_data.py:246: UserWarning:\n",
      "\n",
      "Numerical issues were encountered when centering the data and might not be solved. Dataset may contain too large values. You may need to prescale your features.\n",
      "\n",
      "/home/france/anaconda3/envs/hyperion/lib/python3.8/site-packages/sklearn/preprocessing/_data.py:265: UserWarning:\n",
      "\n",
      "Numerical issues were encountered when scaling the data and might not be solved. The standard deviation of the data is probably very close to 0. \n",
      "\n"
     ]
    }
   ],
   "source": [
    "%run DISK/embedding_umap.py --batch_size 1 --checkpoint_folder models/03-10-24_transformer_NLL --stride 60 --dataset_path /home/france/Documents/cloned-DISK-repo"
   ]
  },
  {
   "cell_type": "markdown",
   "id": "9f21ddcd-39fe-451d-9d3d-f404cdb466be",
   "metadata": {},
   "source": [
    "# Impute the dataset"
   ]
  },
  {
   "cell_type": "markdown",
   "id": "29106a93-f096-4a54-ba80-922bf9ca0ad3",
   "metadata": {},
   "source": [
    "Human has no missing data, so to demonstrate the imputation, we will use the Rat dataset from https://www.nature.com/articles/s41592-021-01106-6\n",
    "\n",
    "The Rat dataset consists in five 3D motion capture recordings from rats placed in a transparent circular arena for minutes to hours.\n",
    "\n",
    "Figure from Dunn et al. 2021:\n",
    "<center><img src=\"notebooks/images/dunn_fig2.webp\" width=700></center>"
   ]
  },
  {
   "cell_type": "code",
   "execution_count": 10,
   "id": "7e558ac4-4415-43dc-861c-e64d4204ed0e",
   "metadata": {},
   "outputs": [
    {
     "name": "stdout",
     "output_type": "stream",
     "text": [
      "/home/france/Documents/cloned-DISK-repo/datasets\n",
      "Downloading...\n",
      "From (original): https://drive.google.com/uc?id=1dpgBqqdwHWN4fcUzaeVt_Sq1wH-e4lhK\n",
      "From (redirected): https://drive.google.com/uc?id=1dpgBqqdwHWN4fcUzaeVt_Sq1wH-e4lhK&confirm=t&uuid=75b8541c-48f8-4bbb-a38b-2675ac682796\n",
      "To: /home/france/Documents/cloned-DISK-repo/datasets/Rat7M_seq_DISK_dataset.zip\n",
      "100%|████████████████████████████████████████| 341M/341M [00:22<00:00, 14.9MB/s]\n",
      "Archive:  Rat7M_seq_DISK_dataset.zip\n",
      "   creating: DANNCE_seq_keypoints_60_stride30_fill10/\n",
      "  inflating: DANNCE_seq_keypoints_60_stride30_fill10/count_vs_keypoint_DANNCE_seq_keypoints_60_stride30_fill10.svg  \n",
      "  inflating: DANNCE_seq_keypoints_60_stride30_fill10/hist_length_per_keypoint_DANNCE_seq_keypoints_60_stride30_fill10.svg  \n",
      "  inflating: DANNCE_seq_keypoints_60_stride30_fill10/hist_length_original_vs_fake_DANNCE_seq_keypoints_60_stride30_fill10.png  \n",
      "  inflating: DANNCE_seq_keypoints_60_stride30_fill10/val_dataset_w-0-nans.npz  \n",
      "  inflating: DANNCE_seq_keypoints_60_stride30_fill10/hist_length_per_keypoint_DANNCE_seq_keypoints_60_stride30_fill10.png  \n",
      "  inflating: DANNCE_seq_keypoints_60_stride30_fill10/test_fulllength_dataset_w-0-nans.npz  \n",
      "  inflating: DANNCE_seq_keypoints_60_stride30_fill10/constants.py  \n",
      "  inflating: DANNCE_seq_keypoints_60_stride30_fill10/train_dataset_w-0-nans.npz  \n",
      "  inflating: DANNCE_seq_keypoints_60_stride30_fill10/test_dataset_w-0-nans.npz  \n",
      "  inflating: DANNCE_seq_keypoints_60_stride30_fill10/skeleton.py  \n",
      "  inflating: DANNCE_seq_keypoints_60_stride30_fill10/train_fulllength_dataset_w-0-nans.npz  \n",
      "  inflating: DANNCE_seq_keypoints_60_stride30_fill10/val_fulllength_dataset_w-0-nans.npz  \n",
      "  inflating: DANNCE_seq_keypoints_60_stride30_fill10/hist_length_original_vs_fake_DANNCE_seq_keypoints_60_stride30_fill10.svg  \n",
      "   creating: DANNCE_seq_keypoints_60_stride30_fill10/__pycache__/\n",
      "  inflating: DANNCE_seq_keypoints_60_stride30_fill10/__pycache__/skeleton.cpython-39.pyc  \n",
      "  inflating: DANNCE_seq_keypoints_60_stride30_fill10/__pycache__/constants.cpython-38.pyc  \n",
      "  inflating: DANNCE_seq_keypoints_60_stride30_fill10/__pycache__/constants.cpython-39.pyc  \n",
      "  inflating: DANNCE_seq_keypoints_60_stride30_fill10/__pycache__/skeleton.cpython-38.pyc  \n",
      "  inflating: DANNCE_seq_keypoints_60_stride30_fill10/hyperparameters.txt  \n",
      "  inflating: DANNCE_seq_keypoints_60_stride30_fill10/count_vs_keypoint_DANNCE_seq_keypoints_60_stride30_fill10.png  \n",
      "/home/france/Documents/cloned-DISK-repo\n"
     ]
    }
   ],
   "source": [
    "%cd datasets\n",
    "!gdown https://drive.google.com/uc?id=1dpgBqqdwHWN4fcUzaeVt_Sq1wH-e4lhK\n",
    "!unzip Rat7M_seq_DISK_dataset.zip\n",
    "%cd ../"
   ]
  },
  {
   "cell_type": "code",
   "execution_count": 1,
   "id": "5efdbf74-70ee-481a-874d-3d7f6fab46eb",
   "metadata": {},
   "outputs": [
    {
     "name": "stdout",
     "output_type": "stream",
     "text": [
      "/home/france/Documents/cloned-DISK-repo/models\n",
      "Downloading...\n",
      "From: https://drive.google.com/uc?id=1hbEkwTI2ir0T54UywVv4r9GbzfgveCaC\n",
      "To: /home/france/Documents/cloned-DISK-repo/models/Rat7M_transformer_proba.zip\n",
      "100%|██████████████████████████████████████| 9.04M/9.04M [00:00<00:00, 14.8MB/s]\n",
      "Archive:  Rat7M_transformer_proba.zip\n",
      "   creating: 05-12-23_transformer_NLL/\n",
      "  inflating: 05-12-23_transformer_NLL/training_losses.txt  \n",
      "  inflating: 05-12-23_transformer_NLL/model_last_epoch1500  \n",
      "  inflating: 05-12-23_transformer_NLL/main_fillmissing.log  \n",
      "  inflating: 05-12-23_transformer_NLL/loss.svg  \n",
      "   creating: 05-12-23_transformer_NLL/.hydra/\n",
      "  inflating: 05-12-23_transformer_NLL/.hydra/config.yaml  \n",
      "  inflating: 05-12-23_transformer_NLL/.hydra/overrides.yaml  \n",
      "  inflating: 05-12-23_transformer_NLL/.hydra/hydra.yaml  \n",
      "  inflating: 05-12-23_transformer_NLL/model_epoch1340  \n",
      "  inflating: 05-12-23_transformer_NLL/loss_dark.svg  \n",
      "/home/france/Documents/cloned-DISK-repo\n"
     ]
    }
   ],
   "source": [
    "%cd models\n",
    "!gdown https://drive.google.com/uc?id=1hbEkwTI2ir0T54UywVv4r9GbzfgveCaC\n",
    "!unzip Rat7M_transformer_proba.zip\n",
    "%cd ../"
   ]
  },
  {
   "cell_type": "markdown",
   "id": "18777118-7bda-486d-8088-36c123b665cc",
   "metadata": {},
   "source": [
    "---\n",
    "Change in conf_impute.yaml:\n",
    "\n",
    "    hydra.run.dir: models/impute_Rat7M\n",
    "    dataset.name=DANNCE_seq_keypoints_60_stride30_fill10\n",
    "    dataset.skeleton_file=DANNCE_seq_keypoints_60_stride30_fill10/skeleton.py\n",
    "    evaluate.chepoint=models/05-12-23_transformer_NLL\n",
    "    evaluate.n_cpus=1\n"
   ]
  },
  {
   "cell_type": "code",
   "execution_count": 24,
   "id": "7561d3be-b10f-4d24-9321-0d453e5b4e21",
   "metadata": {},
   "outputs": [
    {
     "name": "stdout",
     "output_type": "stream",
     "text": [
      "[2024-05-03 14:22:31,946][root][INFO] - [BASEDIR] /home/france/Documents/cloned-DISK-repo\n",
      "[2024-05-03 14:22:31,947][root][INFO] - [OUTPUT DIR] /home/france/Documents/cloned-DISK-repo/models/impute_Rat7M\n",
      "[2024-05-03 14:22:31,947][root][INFO] - {'dataset': {'name': 'DANNCE_seq_keypoints_60_stride30_fill10', 'skeleton_file': 'DANNCE_seq_keypoints_60_stride30_fill10/skeleton.py'}, 'feed_data': {'verbose': 0, 'pad': [1, 1], 'batch_size': 8}, 'evaluate': {'checkpoint': 'models/05-12-23_transformer_NLL', 'n_cpus': 1, 'n_plots': 20, 'save': True, 'save_dataset': True, 'only_holes': True, 'threshold_error_score': 0.1, 'suffix': None, 'name_items': [['network', 'type']]}}\n",
      "[2024-05-03 14:22:31,948][root][INFO] - Loaded skeleton with links [(0, 1), (0, 2), (1, 2), (1, 3), (3, 4), (4, 5), (3, 6), (4, 6), (4, 7), (6, 7), (5, 7), (5, 8), (5, 9), (3, 12), (12, 10), (11, 10), (3, 13), (13, 14), (14, 15), (9, 16), (16, 19), (8, 17), (17, 18)] and colors ['orange', 'orange', 'orange', 'gold', 'gold', 'gold', 'grey', 'grey', 'grey', 'grey', 'grey', 'gold', 'gold', 'cornflowerblue', 'cornflowerblue', 'cornflowerblue', 'turquoise', 'turquoise', 'turquoise', 'hotpink', 'hotpink', 'purple', 'purple']\n",
      "[2024-05-03 14:22:31,949][__main__][INFO] - Device: cuda\n",
      "[2024-05-03 14:22:31,952][root][INFO] - Found model at path /home/france/Documents/cloned-DISK-repo/models/05-12-23_transformer_NLL/model_epoch1340\n",
      "[2024-05-03 14:22:31,958][root][INFO] - Loading prediction model...\n",
      "[2024-05-03 14:22:31,978][__main__][INFO] - Network type-transformer constructed\n",
      "[2024-05-03 14:22:31,992][root][INFO] - Loading with epoch = 1340\n",
      "[2024-05-03 14:22:31,992][root][INFO] - Loading with ave_loss_train = -93.56155834062082\n",
      "[2024-05-03 14:22:31,993][root][INFO] - Loading with ave_rmse_train = 0.03282632031466927\n",
      "[2024-05-03 14:22:31,993][root][INFO] - Loading with ave_loss_eval = -77.06596969486623\n",
      "[2024-05-03 14:22:31,993][root][INFO] - Loading with ave_rmse_eval = 0.04918611581238468\n",
      "[2024-05-03 14:22:31,994][root][INFO] - Loading with lr = 0.0009025\n",
      "[2024-05-03 14:22:31,994][root][INFO] - Loading with print_every = 10\n",
      "[2024-05-03 14:22:32,690][root][INFO] - Loaded skeleton with links [(0, 1), (0, 2), (1, 2), (1, 3), (3, 4), (4, 5), (3, 6), (4, 6), (4, 7), (6, 7), (5, 7), (5, 8), (5, 9), (3, 12), (12, 10), (11, 10), (3, 13), (13, 14), (14, 15), (9, 16), (16, 19), (8, 17), (17, 18)] and colors ['orange', 'orange', 'orange', 'gold', 'gold', 'gold', 'grey', 'grey', 'grey', 'grey', 'grey', 'gold', 'gold', 'cornflowerblue', 'cornflowerblue', 'cornflowerblue', 'turquoise', 'turquoise', 'turquoise', 'hotpink', 'hotpink', 'purple', 'purple']\n"
     ]
    },
    {
     "name": "stderr",
     "output_type": "stream",
     "text": [
      "100%|█████████████████████████████████████████████| 4/4 [00:19<00:00,  4.96s/it]"
     ]
    },
    {
     "name": "stdout",
     "output_type": "stream",
     "text": [
      "[2024-05-03 14:22:52,534][root][INFO] - Found 28311 imputable timepoints over the 271707 total missing timepoints (10.4 %)\n",
      "[2024-05-03 14:22:52,535][root][INFO] - Lengths of imputable segments (25th, 50th, 75th percentiles): [40. 59. 59.]\n"
     ]
    },
    {
     "name": "stderr",
     "output_type": "stream",
     "text": [
      "\n"
     ]
    },
    {
     "name": "stdout",
     "output_type": "stream",
     "text": [
      "[2024-05-03 14:22:52,854][root][INFO] - Loaded skeleton with links [(0, 1), (0, 2), (1, 2), (1, 3), (3, 4), (4, 5), (3, 6), (4, 6), (4, 7), (6, 7), (5, 7), (5, 8), (5, 9), (3, 12), (12, 10), (11, 10), (3, 13), (13, 14), (14, 15), (9, 16), (16, 19), (8, 17), (17, 18)] and colors ['orange', 'orange', 'orange', 'gold', 'gold', 'gold', 'grey', 'grey', 'grey', 'grey', 'grey', 'gold', 'gold', 'cornflowerblue', 'cornflowerblue', 'cornflowerblue', 'turquoise', 'turquoise', 'turquoise', 'hotpink', 'hotpink', 'purple', 'purple']\n"
     ]
    },
    {
     "name": "stderr",
     "output_type": "stream",
     "text": [
      "100%|█████████████████████████████████████████████| 2/2 [00:10<00:00,  5.27s/it]"
     ]
    },
    {
     "name": "stdout",
     "output_type": "stream",
     "text": [
      "[2024-05-03 14:23:03,394][root][INFO] - Found 33672 imputable timepoints over the 126823 total missing timepoints (26.6 %)\n",
      "[2024-05-03 14:23:03,395][root][INFO] - Lengths of imputable segments (25th, 50th, 75th percentiles): [39. 52. 59.]\n"
     ]
    },
    {
     "name": "stderr",
     "output_type": "stream",
     "text": [
      "\n"
     ]
    },
    {
     "name": "stdout",
     "output_type": "stream",
     "text": [
      "[2024-05-03 14:23:03,618][root][INFO] - Loaded skeleton with links [(0, 1), (0, 2), (1, 2), (1, 3), (3, 4), (4, 5), (3, 6), (4, 6), (4, 7), (6, 7), (5, 7), (5, 8), (5, 9), (3, 12), (12, 10), (11, 10), (3, 13), (13, 14), (14, 15), (9, 16), (16, 19), (8, 17), (17, 18)] and colors ['orange', 'orange', 'orange', 'gold', 'gold', 'gold', 'grey', 'grey', 'grey', 'grey', 'grey', 'gold', 'gold', 'cornflowerblue', 'cornflowerblue', 'cornflowerblue', 'turquoise', 'turquoise', 'turquoise', 'hotpink', 'hotpink', 'purple', 'purple']\n"
     ]
    },
    {
     "name": "stderr",
     "output_type": "stream",
     "text": [
      "100%|█████████████████████████████████████████████| 1/1 [00:04<00:00,  4.45s/it]"
     ]
    },
    {
     "name": "stdout",
     "output_type": "stream",
     "text": [
      "[2024-05-03 14:23:08,070][root][INFO] - Found 16810 imputable timepoints over the 59928 total missing timepoints (28.1 %)\n",
      "[2024-05-03 14:23:08,071][root][INFO] - Lengths of imputable segments (25th, 50th, 75th percentiles): [38. 46. 59.]\n"
     ]
    },
    {
     "name": "stderr",
     "output_type": "stream",
     "text": [
      "\n",
      "Iterating on batch: 100%|█████████████████████| 178/178 [03:10<00:00,  1.07s/it]"
     ]
    },
    {
     "name": "stdout",
     "output_type": "stream",
     "text": [
      "[2024-05-03 14:26:18,496][root][INFO] - test, dataset_path = /home/france/Documents/cloned-DISK-repo/datasets/DANNCE_seq_keypoints_60_stride30_fill10\n"
     ]
    },
    {
     "name": "stderr",
     "output_type": "stream",
     "text": [
      "\n",
      "Error executing job with overrides: []\n",
      "Traceback (most recent call last):\n",
      "  File \"/home/france/Documents/cloned-DISK-repo/DISK/impute_dataset.py\", line 344, in evaluate\n",
      "    print(dataset.input_files)\n",
      "AttributeError: 'ImputeDataset' object has no attribute 'input_files'\n",
      "\n",
      "Set the environment variable HYDRA_FULL_ERROR=1 for a complete stack trace.\n"
     ]
    },
    {
     "ename": "AttributeError",
     "evalue": "'tuple' object has no attribute 'tb_frame'",
     "output_type": "error",
     "traceback": [
      "\u001b[0;31m---------------------------------------------------------------------------\u001b[0m",
      "\u001b[0;31mAttributeError\u001b[0m                            Traceback (most recent call last)",
      "File \u001b[0;32m~/anaconda3/envs/hyperion/lib/python3.8/site-packages/hydra/_internal/utils.py:213\u001b[0m, in \u001b[0;36mrun_and_report\u001b[0;34m(func)\u001b[0m\n\u001b[1;32m    212\u001b[0m \u001b[38;5;28;01mtry\u001b[39;00m:\n\u001b[0;32m--> 213\u001b[0m     \u001b[38;5;28;01mreturn\u001b[39;00m \u001b[43mfunc\u001b[49m\u001b[43m(\u001b[49m\u001b[43m)\u001b[49m\n\u001b[1;32m    214\u001b[0m \u001b[38;5;28;01mexcept\u001b[39;00m \u001b[38;5;167;01mException\u001b[39;00m \u001b[38;5;28;01mas\u001b[39;00m ex:\n",
      "File \u001b[0;32m~/anaconda3/envs/hyperion/lib/python3.8/site-packages/hydra/_internal/utils.py:453\u001b[0m, in \u001b[0;36m_run_app.<locals>.<lambda>\u001b[0;34m()\u001b[0m\n\u001b[1;32m    451\u001b[0m \u001b[38;5;28;01mif\u001b[39;00m mode \u001b[38;5;241m==\u001b[39m RunMode\u001b[38;5;241m.\u001b[39mRUN:\n\u001b[1;32m    452\u001b[0m     run_and_report(\n\u001b[0;32m--> 453\u001b[0m         \u001b[38;5;28;01mlambda\u001b[39;00m: \u001b[43mhydra\u001b[49m\u001b[38;5;241;43m.\u001b[39;49m\u001b[43mrun\u001b[49m\u001b[43m(\u001b[49m\n\u001b[1;32m    454\u001b[0m \u001b[43m            \u001b[49m\u001b[43mconfig_name\u001b[49m\u001b[38;5;241;43m=\u001b[39;49m\u001b[43mconfig_name\u001b[49m\u001b[43m,\u001b[49m\n\u001b[1;32m    455\u001b[0m \u001b[43m            \u001b[49m\u001b[43mtask_function\u001b[49m\u001b[38;5;241;43m=\u001b[39;49m\u001b[43mtask_function\u001b[49m\u001b[43m,\u001b[49m\n\u001b[1;32m    456\u001b[0m \u001b[43m            \u001b[49m\u001b[43moverrides\u001b[49m\u001b[38;5;241;43m=\u001b[39;49m\u001b[43moverrides\u001b[49m\u001b[43m,\u001b[49m\n\u001b[1;32m    457\u001b[0m \u001b[43m        \u001b[49m\u001b[43m)\u001b[49m\n\u001b[1;32m    458\u001b[0m     )\n\u001b[1;32m    459\u001b[0m \u001b[38;5;28;01melse\u001b[39;00m:\n",
      "File \u001b[0;32m~/anaconda3/envs/hyperion/lib/python3.8/site-packages/hydra/_internal/hydra.py:132\u001b[0m, in \u001b[0;36mHydra.run\u001b[0;34m(self, config_name, task_function, overrides, with_log_configuration)\u001b[0m\n\u001b[1;32m    131\u001b[0m \u001b[38;5;66;03m# access the result to trigger an exception in case the job failed.\u001b[39;00m\n\u001b[0;32m--> 132\u001b[0m _ \u001b[38;5;241m=\u001b[39m \u001b[43mret\u001b[49m\u001b[38;5;241;43m.\u001b[39;49m\u001b[43mreturn_value\u001b[49m\n\u001b[1;32m    134\u001b[0m \u001b[38;5;28;01mreturn\u001b[39;00m ret\n",
      "File \u001b[0;32m~/anaconda3/envs/hyperion/lib/python3.8/site-packages/hydra/core/utils.py:260\u001b[0m, in \u001b[0;36mJobReturn.return_value\u001b[0;34m(self)\u001b[0m\n\u001b[1;32m    257\u001b[0m sys\u001b[38;5;241m.\u001b[39mstderr\u001b[38;5;241m.\u001b[39mwrite(\n\u001b[1;32m    258\u001b[0m     \u001b[38;5;124mf\u001b[39m\u001b[38;5;124m\"\u001b[39m\u001b[38;5;124mError executing job with overrides: \u001b[39m\u001b[38;5;132;01m{\u001b[39;00m\u001b[38;5;28mself\u001b[39m\u001b[38;5;241m.\u001b[39moverrides\u001b[38;5;132;01m}\u001b[39;00m\u001b[38;5;124m\"\u001b[39m \u001b[38;5;241m+\u001b[39m os\u001b[38;5;241m.\u001b[39mlinesep\n\u001b[1;32m    259\u001b[0m )\n\u001b[0;32m--> 260\u001b[0m \u001b[38;5;28;01mraise\u001b[39;00m \u001b[38;5;28mself\u001b[39m\u001b[38;5;241m.\u001b[39m_return_value\n",
      "File \u001b[0;32m~/anaconda3/envs/hyperion/lib/python3.8/site-packages/hydra/core/utils.py:186\u001b[0m, in \u001b[0;36mrun_job\u001b[0;34m(task_function, config, job_dir_key, job_subdir_key, hydra_context, configure_logging)\u001b[0m\n\u001b[1;32m    185\u001b[0m \u001b[38;5;28;01mtry\u001b[39;00m:\n\u001b[0;32m--> 186\u001b[0m     ret\u001b[38;5;241m.\u001b[39mreturn_value \u001b[38;5;241m=\u001b[39m \u001b[43mtask_function\u001b[49m\u001b[43m(\u001b[49m\u001b[43mtask_cfg\u001b[49m\u001b[43m)\u001b[49m\n\u001b[1;32m    187\u001b[0m     ret\u001b[38;5;241m.\u001b[39mstatus \u001b[38;5;241m=\u001b[39m JobStatus\u001b[38;5;241m.\u001b[39mCOMPLETED\n",
      "File \u001b[0;32m~/Documents/cloned-DISK-repo/DISK/impute_dataset.py:344\u001b[0m, in \u001b[0;36mevaluate\u001b[0;34m(_cfg)\u001b[0m\n\u001b[1;32m    342\u001b[0m     np\u001b[38;5;241m.\u001b[39msavez(os\u001b[38;5;241m.\u001b[39mpath\u001b[38;5;241m.\u001b[39mjoin(dataset_path, \u001b[38;5;124mf\u001b[39m\u001b[38;5;124m'\u001b[39m\u001b[38;5;132;01m{\u001b[39;00msubset\u001b[38;5;132;01m}\u001b[39;00m\u001b[38;5;124m_fulllength_dataset_imputed.npz\u001b[39m\u001b[38;5;124m'\u001b[39m),\n\u001b[1;32m    343\u001b[0m              X\u001b[38;5;241m=\u001b[39mdataset\u001b[38;5;241m.\u001b[39mX, y\u001b[38;5;241m=\u001b[39mdataset\u001b[38;5;241m.\u001b[39my, time\u001b[38;5;241m=\u001b[39mdataset\u001b[38;5;241m.\u001b[39mtime)\n\u001b[0;32m--> 344\u001b[0m \u001b[38;5;28mprint\u001b[39m(\u001b[43mdataset\u001b[49m\u001b[38;5;241;43m.\u001b[39;49m\u001b[43minput_files\u001b[49m)\n\u001b[1;32m    345\u001b[0m \u001b[38;5;28;01mif\u001b[39;00m dataset\u001b[38;5;241m.\u001b[39minput_files \u001b[38;5;129;01mis\u001b[39;00m \u001b[38;5;129;01mnot\u001b[39;00m \u001b[38;5;28;01mNone\u001b[39;00m:\n",
      "\u001b[0;31mAttributeError\u001b[0m: 'ImputeDataset' object has no attribute 'input_files'",
      "\nDuring handling of the above exception, another exception occurred:\n",
      "\u001b[0;31mSystemExit\u001b[0m                                Traceback (most recent call last)",
      "File \u001b[0;32m~/anaconda3/envs/hyperion/lib/python3.8/site-packages/IPython/core/interactiveshell.py:2866\u001b[0m, in \u001b[0;36mInteractiveShell.safe_execfile\u001b[0;34m(self, fname, exit_ignore, raise_exceptions, shell_futures, *where)\u001b[0m\n\u001b[1;32m   2865\u001b[0m     glob, loc \u001b[38;5;241m=\u001b[39m (where \u001b[38;5;241m+\u001b[39m (\u001b[38;5;28;01mNone\u001b[39;00m, ))[:\u001b[38;5;241m2\u001b[39m]\n\u001b[0;32m-> 2866\u001b[0m     \u001b[43mpy3compat\u001b[49m\u001b[38;5;241;43m.\u001b[39;49m\u001b[43mexecfile\u001b[49m\u001b[43m(\u001b[49m\n\u001b[1;32m   2867\u001b[0m \u001b[43m        \u001b[49m\u001b[43mfname\u001b[49m\u001b[43m,\u001b[49m\u001b[43m \u001b[49m\u001b[43mglob\u001b[49m\u001b[43m,\u001b[49m\u001b[43m \u001b[49m\u001b[43mloc\u001b[49m\u001b[43m,\u001b[49m\n\u001b[1;32m   2868\u001b[0m \u001b[43m        \u001b[49m\u001b[38;5;28;43mself\u001b[39;49m\u001b[38;5;241;43m.\u001b[39;49m\u001b[43mcompile\u001b[49m\u001b[43m \u001b[49m\u001b[38;5;28;43;01mif\u001b[39;49;00m\u001b[43m \u001b[49m\u001b[43mshell_futures\u001b[49m\u001b[43m \u001b[49m\u001b[38;5;28;43;01melse\u001b[39;49;00m\u001b[43m \u001b[49m\u001b[38;5;28;43;01mNone\u001b[39;49;00m\u001b[43m)\u001b[49m\n\u001b[1;32m   2869\u001b[0m \u001b[38;5;28;01mexcept\u001b[39;00m \u001b[38;5;167;01mSystemExit\u001b[39;00m \u001b[38;5;28;01mas\u001b[39;00m status:\n\u001b[1;32m   2870\u001b[0m     \u001b[38;5;66;03m# If the call was made with 0 or None exit status (sys.exit(0)\u001b[39;00m\n\u001b[1;32m   2871\u001b[0m     \u001b[38;5;66;03m# or sys.exit() ), don't bother showing a traceback, as both of\u001b[39;00m\n\u001b[0;32m   (...)\u001b[0m\n\u001b[1;32m   2877\u001b[0m     \u001b[38;5;66;03m# For other exit status, we show the exception unless\u001b[39;00m\n\u001b[1;32m   2878\u001b[0m     \u001b[38;5;66;03m# explicitly silenced, but only in short form.\u001b[39;00m\n",
      "File \u001b[0;32m~/anaconda3/envs/hyperion/lib/python3.8/site-packages/IPython/utils/py3compat.py:55\u001b[0m, in \u001b[0;36mexecfile\u001b[0;34m(fname, glob, loc, compiler)\u001b[0m\n\u001b[1;32m     54\u001b[0m compiler \u001b[38;5;241m=\u001b[39m compiler \u001b[38;5;129;01mor\u001b[39;00m \u001b[38;5;28mcompile\u001b[39m\n\u001b[0;32m---> 55\u001b[0m \u001b[43mexec\u001b[49m\u001b[43m(\u001b[49m\u001b[43mcompiler\u001b[49m\u001b[43m(\u001b[49m\u001b[43mf\u001b[49m\u001b[38;5;241;43m.\u001b[39;49m\u001b[43mread\u001b[49m\u001b[43m(\u001b[49m\u001b[43m)\u001b[49m\u001b[43m,\u001b[49m\u001b[43m \u001b[49m\u001b[43mfname\u001b[49m\u001b[43m,\u001b[49m\u001b[43m \u001b[49m\u001b[38;5;124;43m\"\u001b[39;49m\u001b[38;5;124;43mexec\u001b[39;49m\u001b[38;5;124;43m\"\u001b[39;49m\u001b[43m)\u001b[49m\u001b[43m,\u001b[49m\u001b[43m \u001b[49m\u001b[43mglob\u001b[49m\u001b[43m,\u001b[49m\u001b[43m \u001b[49m\u001b[43mloc\u001b[49m\u001b[43m)\u001b[49m\n",
      "File \u001b[0;32m~/Documents/cloned-DISK-repo/DISK/impute_dataset.py:387\u001b[0m\n\u001b[1;32m    385\u001b[0m logger \u001b[38;5;241m=\u001b[39m logging\u001b[38;5;241m.\u001b[39mgetLogger(\u001b[38;5;18m__name__\u001b[39m)\n\u001b[0;32m--> 387\u001b[0m \u001b[43mevaluate\u001b[49m\u001b[43m(\u001b[49m\u001b[43m)\u001b[49m\n",
      "File \u001b[0;32m~/anaconda3/envs/hyperion/lib/python3.8/site-packages/hydra/main.py:90\u001b[0m, in \u001b[0;36mmain.<locals>.main_decorator.<locals>.decorated_main\u001b[0;34m(cfg_passthrough)\u001b[0m\n\u001b[1;32m     87\u001b[0m \u001b[38;5;28;01melse\u001b[39;00m:\n\u001b[1;32m     88\u001b[0m     \u001b[38;5;66;03m# no return value from run_hydra() as it may sometime actually run the task_function\u001b[39;00m\n\u001b[1;32m     89\u001b[0m     \u001b[38;5;66;03m# multiple times (--multirun)\u001b[39;00m\n\u001b[0;32m---> 90\u001b[0m     \u001b[43m_run_hydra\u001b[49m\u001b[43m(\u001b[49m\n\u001b[1;32m     91\u001b[0m \u001b[43m        \u001b[49m\u001b[43margs\u001b[49m\u001b[38;5;241;43m=\u001b[39;49m\u001b[43margs\u001b[49m\u001b[43m,\u001b[49m\n\u001b[1;32m     92\u001b[0m \u001b[43m        \u001b[49m\u001b[43margs_parser\u001b[49m\u001b[38;5;241;43m=\u001b[39;49m\u001b[43margs_parser\u001b[49m\u001b[43m,\u001b[49m\n\u001b[1;32m     93\u001b[0m \u001b[43m        \u001b[49m\u001b[43mtask_function\u001b[49m\u001b[38;5;241;43m=\u001b[39;49m\u001b[43mtask_function\u001b[49m\u001b[43m,\u001b[49m\n\u001b[1;32m     94\u001b[0m \u001b[43m        \u001b[49m\u001b[43mconfig_path\u001b[49m\u001b[38;5;241;43m=\u001b[39;49m\u001b[43mconfig_path\u001b[49m\u001b[43m,\u001b[49m\n\u001b[1;32m     95\u001b[0m \u001b[43m        \u001b[49m\u001b[43mconfig_name\u001b[49m\u001b[38;5;241;43m=\u001b[39;49m\u001b[43mconfig_name\u001b[49m\u001b[43m,\u001b[49m\n\u001b[1;32m     96\u001b[0m \u001b[43m    \u001b[49m\u001b[43m)\u001b[49m\n",
      "File \u001b[0;32m~/anaconda3/envs/hyperion/lib/python3.8/site-packages/hydra/_internal/utils.py:389\u001b[0m, in \u001b[0;36m_run_hydra\u001b[0;34m(args, args_parser, task_function, config_path, config_name, caller_stack_depth)\u001b[0m\n\u001b[1;32m    388\u001b[0m     run_mode \u001b[38;5;241m=\u001b[39m hydra\u001b[38;5;241m.\u001b[39mget_mode(config_name\u001b[38;5;241m=\u001b[39mconfig_name, overrides\u001b[38;5;241m=\u001b[39moverrides)\n\u001b[0;32m--> 389\u001b[0m     \u001b[43m_run_app\u001b[49m\u001b[43m(\u001b[49m\n\u001b[1;32m    390\u001b[0m \u001b[43m        \u001b[49m\u001b[43mrun\u001b[49m\u001b[38;5;241;43m=\u001b[39;49m\u001b[43margs\u001b[49m\u001b[38;5;241;43m.\u001b[39;49m\u001b[43mrun\u001b[49m\u001b[43m,\u001b[49m\n\u001b[1;32m    391\u001b[0m \u001b[43m        \u001b[49m\u001b[43mmultirun\u001b[49m\u001b[38;5;241;43m=\u001b[39;49m\u001b[43margs\u001b[49m\u001b[38;5;241;43m.\u001b[39;49m\u001b[43mmultirun\u001b[49m\u001b[43m,\u001b[49m\n\u001b[1;32m    392\u001b[0m \u001b[43m        \u001b[49m\u001b[43mmode\u001b[49m\u001b[38;5;241;43m=\u001b[39;49m\u001b[43mrun_mode\u001b[49m\u001b[43m,\u001b[49m\n\u001b[1;32m    393\u001b[0m \u001b[43m        \u001b[49m\u001b[43mhydra\u001b[49m\u001b[38;5;241;43m=\u001b[39;49m\u001b[43mhydra\u001b[49m\u001b[43m,\u001b[49m\n\u001b[1;32m    394\u001b[0m \u001b[43m        \u001b[49m\u001b[43mconfig_name\u001b[49m\u001b[38;5;241;43m=\u001b[39;49m\u001b[43mconfig_name\u001b[49m\u001b[43m,\u001b[49m\n\u001b[1;32m    395\u001b[0m \u001b[43m        \u001b[49m\u001b[43mtask_function\u001b[49m\u001b[38;5;241;43m=\u001b[39;49m\u001b[43mtask_function\u001b[49m\u001b[43m,\u001b[49m\n\u001b[1;32m    396\u001b[0m \u001b[43m        \u001b[49m\u001b[43moverrides\u001b[49m\u001b[38;5;241;43m=\u001b[39;49m\u001b[43moverrides\u001b[49m\u001b[43m,\u001b[49m\n\u001b[1;32m    397\u001b[0m \u001b[43m    \u001b[49m\u001b[43m)\u001b[49m\n\u001b[1;32m    398\u001b[0m \u001b[38;5;28;01melif\u001b[39;00m args\u001b[38;5;241m.\u001b[39mcfg:\n",
      "File \u001b[0;32m~/anaconda3/envs/hyperion/lib/python3.8/site-packages/hydra/_internal/utils.py:452\u001b[0m, in \u001b[0;36m_run_app\u001b[0;34m(run, multirun, mode, hydra, config_name, task_function, overrides)\u001b[0m\n\u001b[1;32m    451\u001b[0m \u001b[38;5;28;01mif\u001b[39;00m mode \u001b[38;5;241m==\u001b[39m RunMode\u001b[38;5;241m.\u001b[39mRUN:\n\u001b[0;32m--> 452\u001b[0m     \u001b[43mrun_and_report\u001b[49m\u001b[43m(\u001b[49m\n\u001b[1;32m    453\u001b[0m \u001b[43m        \u001b[49m\u001b[38;5;28;43;01mlambda\u001b[39;49;00m\u001b[43m:\u001b[49m\u001b[43m \u001b[49m\u001b[43mhydra\u001b[49m\u001b[38;5;241;43m.\u001b[39;49m\u001b[43mrun\u001b[49m\u001b[43m(\u001b[49m\n\u001b[1;32m    454\u001b[0m \u001b[43m            \u001b[49m\u001b[43mconfig_name\u001b[49m\u001b[38;5;241;43m=\u001b[39;49m\u001b[43mconfig_name\u001b[49m\u001b[43m,\u001b[49m\n\u001b[1;32m    455\u001b[0m \u001b[43m            \u001b[49m\u001b[43mtask_function\u001b[49m\u001b[38;5;241;43m=\u001b[39;49m\u001b[43mtask_function\u001b[49m\u001b[43m,\u001b[49m\n\u001b[1;32m    456\u001b[0m \u001b[43m            \u001b[49m\u001b[43moverrides\u001b[49m\u001b[38;5;241;43m=\u001b[39;49m\u001b[43moverrides\u001b[49m\u001b[43m,\u001b[49m\n\u001b[1;32m    457\u001b[0m \u001b[43m        \u001b[49m\u001b[43m)\u001b[49m\n\u001b[1;32m    458\u001b[0m \u001b[43m    \u001b[49m\u001b[43m)\u001b[49m\n\u001b[1;32m    459\u001b[0m \u001b[38;5;28;01melse\u001b[39;00m:\n",
      "File \u001b[0;32m~/anaconda3/envs/hyperion/lib/python3.8/site-packages/hydra/_internal/utils.py:297\u001b[0m, in \u001b[0;36mrun_and_report\u001b[0;34m(func)\u001b[0m\n\u001b[1;32m    296\u001b[0m         \u001b[38;5;28;01mraise\u001b[39;00m ex\n\u001b[0;32m--> 297\u001b[0m \u001b[43msys\u001b[49m\u001b[38;5;241;43m.\u001b[39;49m\u001b[43mexit\u001b[49m\u001b[43m(\u001b[49m\u001b[38;5;241;43m1\u001b[39;49m\u001b[43m)\u001b[49m\n",
      "\u001b[0;31mSystemExit\u001b[0m: 1",
      "\nDuring handling of the above exception, another exception occurred:\n",
      "\u001b[0;31mAttributeError\u001b[0m                            Traceback (most recent call last)",
      "Cell \u001b[0;32mIn[24], line 1\u001b[0m\n\u001b[0;32m----> 1\u001b[0m \u001b[43mget_ipython\u001b[49m\u001b[43m(\u001b[49m\u001b[43m)\u001b[49m\u001b[38;5;241;43m.\u001b[39;49m\u001b[43mrun_line_magic\u001b[49m\u001b[43m(\u001b[49m\u001b[38;5;124;43m'\u001b[39;49m\u001b[38;5;124;43mrun\u001b[39;49m\u001b[38;5;124;43m'\u001b[39;49m\u001b[43m,\u001b[49m\u001b[43m \u001b[49m\u001b[38;5;124;43m'\u001b[39;49m\u001b[38;5;124;43mDISK/impute_dataset.py\u001b[39;49m\u001b[38;5;124;43m'\u001b[39;49m\u001b[43m)\u001b[49m\n",
      "File \u001b[0;32m~/anaconda3/envs/hyperion/lib/python3.8/site-packages/IPython/core/interactiveshell.py:2417\u001b[0m, in \u001b[0;36mInteractiveShell.run_line_magic\u001b[0;34m(self, magic_name, line, _stack_depth)\u001b[0m\n\u001b[1;32m   2415\u001b[0m     kwargs[\u001b[38;5;124m'\u001b[39m\u001b[38;5;124mlocal_ns\u001b[39m\u001b[38;5;124m'\u001b[39m] \u001b[38;5;241m=\u001b[39m \u001b[38;5;28mself\u001b[39m\u001b[38;5;241m.\u001b[39mget_local_scope(stack_depth)\n\u001b[1;32m   2416\u001b[0m \u001b[38;5;28;01mwith\u001b[39;00m \u001b[38;5;28mself\u001b[39m\u001b[38;5;241m.\u001b[39mbuiltin_trap:\n\u001b[0;32m-> 2417\u001b[0m     result \u001b[38;5;241m=\u001b[39m \u001b[43mfn\u001b[49m\u001b[43m(\u001b[49m\u001b[38;5;241;43m*\u001b[39;49m\u001b[43margs\u001b[49m\u001b[43m,\u001b[49m\u001b[43m \u001b[49m\u001b[38;5;241;43m*\u001b[39;49m\u001b[38;5;241;43m*\u001b[39;49m\u001b[43mkwargs\u001b[49m\u001b[43m)\u001b[49m\n\u001b[1;32m   2419\u001b[0m \u001b[38;5;66;03m# The code below prevents the output from being displayed\u001b[39;00m\n\u001b[1;32m   2420\u001b[0m \u001b[38;5;66;03m# when using magics with decodator @output_can_be_silenced\u001b[39;00m\n\u001b[1;32m   2421\u001b[0m \u001b[38;5;66;03m# when the last Python token in the expression is a ';'.\u001b[39;00m\n\u001b[1;32m   2422\u001b[0m \u001b[38;5;28;01mif\u001b[39;00m \u001b[38;5;28mgetattr\u001b[39m(fn, magic\u001b[38;5;241m.\u001b[39mMAGIC_OUTPUT_CAN_BE_SILENCED, \u001b[38;5;28;01mFalse\u001b[39;00m):\n",
      "File \u001b[0;32m~/anaconda3/envs/hyperion/lib/python3.8/site-packages/IPython/core/magics/execution.py:834\u001b[0m, in \u001b[0;36mExecutionMagics.run\u001b[0;34m(self, parameter_s, runner, file_finder)\u001b[0m\n\u001b[1;32m    831\u001b[0m             \u001b[38;5;28mself\u001b[39m\u001b[38;5;241m.\u001b[39m_run_with_timing(run, nruns)\n\u001b[1;32m    832\u001b[0m         \u001b[38;5;28;01melse\u001b[39;00m:\n\u001b[1;32m    833\u001b[0m             \u001b[38;5;66;03m# regular execution\u001b[39;00m\n\u001b[0;32m--> 834\u001b[0m             \u001b[43mrun\u001b[49m\u001b[43m(\u001b[49m\u001b[43m)\u001b[49m\n\u001b[1;32m    836\u001b[0m \u001b[38;5;28;01mif\u001b[39;00m \u001b[38;5;124m'\u001b[39m\u001b[38;5;124mi\u001b[39m\u001b[38;5;124m'\u001b[39m \u001b[38;5;129;01min\u001b[39;00m opts:\n\u001b[1;32m    837\u001b[0m     \u001b[38;5;28mself\u001b[39m\u001b[38;5;241m.\u001b[39mshell\u001b[38;5;241m.\u001b[39muser_ns[\u001b[38;5;124m'\u001b[39m\u001b[38;5;124m__name__\u001b[39m\u001b[38;5;124m'\u001b[39m] \u001b[38;5;241m=\u001b[39m __name__save\n",
      "File \u001b[0;32m~/anaconda3/envs/hyperion/lib/python3.8/site-packages/IPython/core/magics/execution.py:819\u001b[0m, in \u001b[0;36mExecutionMagics.run.<locals>.run\u001b[0;34m()\u001b[0m\n\u001b[1;32m    818\u001b[0m \u001b[38;5;28;01mdef\u001b[39;00m \u001b[38;5;21mrun\u001b[39m():\n\u001b[0;32m--> 819\u001b[0m     \u001b[43mrunner\u001b[49m\u001b[43m(\u001b[49m\u001b[43mfilename\u001b[49m\u001b[43m,\u001b[49m\u001b[43m \u001b[49m\u001b[43mprog_ns\u001b[49m\u001b[43m,\u001b[49m\u001b[43m \u001b[49m\u001b[43mprog_ns\u001b[49m\u001b[43m,\u001b[49m\n\u001b[1;32m    820\u001b[0m \u001b[43m            \u001b[49m\u001b[43mexit_ignore\u001b[49m\u001b[38;5;241;43m=\u001b[39;49m\u001b[43mexit_ignore\u001b[49m\u001b[43m)\u001b[49m\n",
      "File \u001b[0;32m~/anaconda3/envs/hyperion/lib/python3.8/site-packages/IPython/core/interactiveshell.py:2883\u001b[0m, in \u001b[0;36mInteractiveShell.safe_execfile\u001b[0;34m(self, fname, exit_ignore, raise_exceptions, shell_futures, *where)\u001b[0m\n\u001b[1;32m   2881\u001b[0m             \u001b[38;5;28;01mraise\u001b[39;00m\n\u001b[1;32m   2882\u001b[0m         \u001b[38;5;28;01mif\u001b[39;00m \u001b[38;5;129;01mnot\u001b[39;00m exit_ignore:\n\u001b[0;32m-> 2883\u001b[0m             \u001b[38;5;28;43mself\u001b[39;49m\u001b[38;5;241;43m.\u001b[39;49m\u001b[43mshowtraceback\u001b[49m\u001b[43m(\u001b[49m\u001b[43mexception_only\u001b[49m\u001b[38;5;241;43m=\u001b[39;49m\u001b[38;5;28;43;01mTrue\u001b[39;49;00m\u001b[43m)\u001b[49m\n\u001b[1;32m   2884\u001b[0m \u001b[38;5;28;01mexcept\u001b[39;00m:\n\u001b[1;32m   2885\u001b[0m     \u001b[38;5;28;01mif\u001b[39;00m raise_exceptions:\n",
      "File \u001b[0;32m~/anaconda3/envs/hyperion/lib/python3.8/site-packages/IPython/core/interactiveshell.py:2095\u001b[0m, in \u001b[0;36mInteractiveShell.showtraceback\u001b[0;34m(self, exc_tuple, filename, tb_offset, exception_only, running_compiled_code)\u001b[0m\n\u001b[1;32m   2092\u001b[0m \u001b[38;5;28;01mif\u001b[39;00m exception_only:\n\u001b[1;32m   2093\u001b[0m     stb \u001b[38;5;241m=\u001b[39m [\u001b[38;5;124m'\u001b[39m\u001b[38;5;124mAn exception has occurred, use \u001b[39m\u001b[38;5;124m%\u001b[39m\u001b[38;5;124mtb to see \u001b[39m\u001b[38;5;124m'\u001b[39m\n\u001b[1;32m   2094\u001b[0m            \u001b[38;5;124m'\u001b[39m\u001b[38;5;124mthe full traceback.\u001b[39m\u001b[38;5;130;01m\\n\u001b[39;00m\u001b[38;5;124m'\u001b[39m]\n\u001b[0;32m-> 2095\u001b[0m     stb\u001b[38;5;241m.\u001b[39mextend(\u001b[38;5;28;43mself\u001b[39;49m\u001b[38;5;241;43m.\u001b[39;49m\u001b[43mInteractiveTB\u001b[49m\u001b[38;5;241;43m.\u001b[39;49m\u001b[43mget_exception_only\u001b[49m\u001b[43m(\u001b[49m\u001b[43metype\u001b[49m\u001b[43m,\u001b[49m\n\u001b[1;32m   2096\u001b[0m \u001b[43m                                                     \u001b[49m\u001b[43mvalue\u001b[49m\u001b[43m)\u001b[49m)\n\u001b[1;32m   2097\u001b[0m \u001b[38;5;28;01melse\u001b[39;00m:\n\u001b[1;32m   2098\u001b[0m     \u001b[38;5;28;01mtry\u001b[39;00m:\n\u001b[1;32m   2099\u001b[0m         \u001b[38;5;66;03m# Exception classes can customise their traceback - we\u001b[39;00m\n\u001b[1;32m   2100\u001b[0m         \u001b[38;5;66;03m# use this in IPython.parallel for exceptions occurring\u001b[39;00m\n\u001b[1;32m   2101\u001b[0m         \u001b[38;5;66;03m# in the engines. This should return a list of strings.\u001b[39;00m\n",
      "File \u001b[0;32m~/anaconda3/envs/hyperion/lib/python3.8/site-packages/IPython/core/ultratb.py:696\u001b[0m, in \u001b[0;36mListTB.get_exception_only\u001b[0;34m(self, etype, value)\u001b[0m\n\u001b[1;32m    688\u001b[0m \u001b[38;5;28;01mdef\u001b[39;00m \u001b[38;5;21mget_exception_only\u001b[39m(\u001b[38;5;28mself\u001b[39m, etype, value):\n\u001b[1;32m    689\u001b[0m \u001b[38;5;250m    \u001b[39m\u001b[38;5;124;03m\"\"\"Only print the exception type and message, without a traceback.\u001b[39;00m\n\u001b[1;32m    690\u001b[0m \n\u001b[1;32m    691\u001b[0m \u001b[38;5;124;03m    Parameters\u001b[39;00m\n\u001b[0;32m   (...)\u001b[0m\n\u001b[1;32m    694\u001b[0m \u001b[38;5;124;03m    value : exception value\u001b[39;00m\n\u001b[1;32m    695\u001b[0m \u001b[38;5;124;03m    \"\"\"\u001b[39;00m\n\u001b[0;32m--> 696\u001b[0m     \u001b[38;5;28;01mreturn\u001b[39;00m \u001b[43mListTB\u001b[49m\u001b[38;5;241;43m.\u001b[39;49m\u001b[43mstructured_traceback\u001b[49m\u001b[43m(\u001b[49m\u001b[38;5;28;43mself\u001b[39;49m\u001b[43m,\u001b[49m\u001b[43m \u001b[49m\u001b[43metype\u001b[49m\u001b[43m,\u001b[49m\u001b[43m \u001b[49m\u001b[43mvalue\u001b[49m\u001b[43m)\u001b[49m\n",
      "File \u001b[0;32m~/anaconda3/envs/hyperion/lib/python3.8/site-packages/IPython/core/ultratb.py:559\u001b[0m, in \u001b[0;36mListTB.structured_traceback\u001b[0;34m(self, etype, evalue, etb, tb_offset, context)\u001b[0m\n\u001b[1;32m    556\u001b[0m     chained_exc_ids\u001b[38;5;241m.\u001b[39madd(\u001b[38;5;28mid\u001b[39m(exception[\u001b[38;5;241m1\u001b[39m]))\n\u001b[1;32m    557\u001b[0m     chained_exceptions_tb_offset \u001b[38;5;241m=\u001b[39m \u001b[38;5;241m0\u001b[39m\n\u001b[1;32m    558\u001b[0m     out_list \u001b[38;5;241m=\u001b[39m (\n\u001b[0;32m--> 559\u001b[0m         \u001b[38;5;28;43mself\u001b[39;49m\u001b[38;5;241;43m.\u001b[39;49m\u001b[43mstructured_traceback\u001b[49m\u001b[43m(\u001b[49m\n\u001b[1;32m    560\u001b[0m \u001b[43m            \u001b[49m\u001b[43metype\u001b[49m\u001b[43m,\u001b[49m\n\u001b[1;32m    561\u001b[0m \u001b[43m            \u001b[49m\u001b[43mevalue\u001b[49m\u001b[43m,\u001b[49m\n\u001b[1;32m    562\u001b[0m \u001b[43m            \u001b[49m\u001b[43m(\u001b[49m\u001b[43metb\u001b[49m\u001b[43m,\u001b[49m\u001b[43m \u001b[49m\u001b[43mchained_exc_ids\u001b[49m\u001b[43m)\u001b[49m\u001b[43m,\u001b[49m\u001b[43m  \u001b[49m\u001b[38;5;66;43;03m# type: ignore\u001b[39;49;00m\n\u001b[1;32m    563\u001b[0m \u001b[43m            \u001b[49m\u001b[43mchained_exceptions_tb_offset\u001b[49m\u001b[43m,\u001b[49m\n\u001b[1;32m    564\u001b[0m \u001b[43m            \u001b[49m\u001b[43mcontext\u001b[49m\u001b[43m,\u001b[49m\n\u001b[1;32m    565\u001b[0m \u001b[43m        \u001b[49m\u001b[43m)\u001b[49m\n\u001b[1;32m    566\u001b[0m         \u001b[38;5;241m+\u001b[39m chained_exception_message\n\u001b[1;32m    567\u001b[0m         \u001b[38;5;241m+\u001b[39m out_list)\n\u001b[1;32m    569\u001b[0m \u001b[38;5;28;01mreturn\u001b[39;00m out_list\n",
      "File \u001b[0;32m~/anaconda3/envs/hyperion/lib/python3.8/site-packages/IPython/core/ultratb.py:1396\u001b[0m, in \u001b[0;36mAutoFormattedTB.structured_traceback\u001b[0;34m(self, etype, evalue, etb, tb_offset, number_of_lines_of_context)\u001b[0m\n\u001b[1;32m   1394\u001b[0m \u001b[38;5;28;01melse\u001b[39;00m:\n\u001b[1;32m   1395\u001b[0m     \u001b[38;5;28mself\u001b[39m\u001b[38;5;241m.\u001b[39mtb \u001b[38;5;241m=\u001b[39m etb\n\u001b[0;32m-> 1396\u001b[0m \u001b[38;5;28;01mreturn\u001b[39;00m \u001b[43mFormattedTB\u001b[49m\u001b[38;5;241;43m.\u001b[39;49m\u001b[43mstructured_traceback\u001b[49m\u001b[43m(\u001b[49m\n\u001b[1;32m   1397\u001b[0m \u001b[43m    \u001b[49m\u001b[38;5;28;43mself\u001b[39;49m\u001b[43m,\u001b[49m\u001b[43m \u001b[49m\u001b[43metype\u001b[49m\u001b[43m,\u001b[49m\u001b[43m \u001b[49m\u001b[43mevalue\u001b[49m\u001b[43m,\u001b[49m\u001b[43m \u001b[49m\u001b[43metb\u001b[49m\u001b[43m,\u001b[49m\u001b[43m \u001b[49m\u001b[43mtb_offset\u001b[49m\u001b[43m,\u001b[49m\u001b[43m \u001b[49m\u001b[43mnumber_of_lines_of_context\u001b[49m\n\u001b[1;32m   1398\u001b[0m \u001b[43m\u001b[49m\u001b[43m)\u001b[49m\n",
      "File \u001b[0;32m~/anaconda3/envs/hyperion/lib/python3.8/site-packages/IPython/core/ultratb.py:1287\u001b[0m, in \u001b[0;36mFormattedTB.structured_traceback\u001b[0;34m(self, etype, value, tb, tb_offset, number_of_lines_of_context)\u001b[0m\n\u001b[1;32m   1284\u001b[0m mode \u001b[38;5;241m=\u001b[39m \u001b[38;5;28mself\u001b[39m\u001b[38;5;241m.\u001b[39mmode\n\u001b[1;32m   1285\u001b[0m \u001b[38;5;28;01mif\u001b[39;00m mode \u001b[38;5;129;01min\u001b[39;00m \u001b[38;5;28mself\u001b[39m\u001b[38;5;241m.\u001b[39mverbose_modes:\n\u001b[1;32m   1286\u001b[0m     \u001b[38;5;66;03m# Verbose modes need a full traceback\u001b[39;00m\n\u001b[0;32m-> 1287\u001b[0m     \u001b[38;5;28;01mreturn\u001b[39;00m \u001b[43mVerboseTB\u001b[49m\u001b[38;5;241;43m.\u001b[39;49m\u001b[43mstructured_traceback\u001b[49m\u001b[43m(\u001b[49m\n\u001b[1;32m   1288\u001b[0m \u001b[43m        \u001b[49m\u001b[38;5;28;43mself\u001b[39;49m\u001b[43m,\u001b[49m\u001b[43m \u001b[49m\u001b[43metype\u001b[49m\u001b[43m,\u001b[49m\u001b[43m \u001b[49m\u001b[43mvalue\u001b[49m\u001b[43m,\u001b[49m\u001b[43m \u001b[49m\u001b[43mtb\u001b[49m\u001b[43m,\u001b[49m\u001b[43m \u001b[49m\u001b[43mtb_offset\u001b[49m\u001b[43m,\u001b[49m\u001b[43m \u001b[49m\u001b[43mnumber_of_lines_of_context\u001b[49m\n\u001b[1;32m   1289\u001b[0m \u001b[43m    \u001b[49m\u001b[43m)\u001b[49m\n\u001b[1;32m   1290\u001b[0m \u001b[38;5;28;01melif\u001b[39;00m mode \u001b[38;5;241m==\u001b[39m \u001b[38;5;124m'\u001b[39m\u001b[38;5;124mMinimal\u001b[39m\u001b[38;5;124m'\u001b[39m:\n\u001b[1;32m   1291\u001b[0m     \u001b[38;5;28;01mreturn\u001b[39;00m ListTB\u001b[38;5;241m.\u001b[39mget_exception_only(\u001b[38;5;28mself\u001b[39m, etype, value)\n",
      "File \u001b[0;32m~/anaconda3/envs/hyperion/lib/python3.8/site-packages/IPython/core/ultratb.py:1140\u001b[0m, in \u001b[0;36mVerboseTB.structured_traceback\u001b[0;34m(self, etype, evalue, etb, tb_offset, number_of_lines_of_context)\u001b[0m\n\u001b[1;32m   1131\u001b[0m \u001b[38;5;28;01mdef\u001b[39;00m \u001b[38;5;21mstructured_traceback\u001b[39m(\n\u001b[1;32m   1132\u001b[0m     \u001b[38;5;28mself\u001b[39m,\n\u001b[1;32m   1133\u001b[0m     etype: \u001b[38;5;28mtype\u001b[39m,\n\u001b[0;32m   (...)\u001b[0m\n\u001b[1;32m   1137\u001b[0m     number_of_lines_of_context: \u001b[38;5;28mint\u001b[39m \u001b[38;5;241m=\u001b[39m \u001b[38;5;241m5\u001b[39m,\n\u001b[1;32m   1138\u001b[0m ):\n\u001b[1;32m   1139\u001b[0m \u001b[38;5;250m    \u001b[39m\u001b[38;5;124;03m\"\"\"Return a nice text document describing the traceback.\"\"\"\u001b[39;00m\n\u001b[0;32m-> 1140\u001b[0m     formatted_exception \u001b[38;5;241m=\u001b[39m \u001b[38;5;28;43mself\u001b[39;49m\u001b[38;5;241;43m.\u001b[39;49m\u001b[43mformat_exception_as_a_whole\u001b[49m\u001b[43m(\u001b[49m\u001b[43metype\u001b[49m\u001b[43m,\u001b[49m\u001b[43m \u001b[49m\u001b[43mevalue\u001b[49m\u001b[43m,\u001b[49m\u001b[43m \u001b[49m\u001b[43metb\u001b[49m\u001b[43m,\u001b[49m\u001b[43m \u001b[49m\u001b[43mnumber_of_lines_of_context\u001b[49m\u001b[43m,\u001b[49m\n\u001b[1;32m   1141\u001b[0m \u001b[43m                                                           \u001b[49m\u001b[43mtb_offset\u001b[49m\u001b[43m)\u001b[49m\n\u001b[1;32m   1143\u001b[0m     colors \u001b[38;5;241m=\u001b[39m \u001b[38;5;28mself\u001b[39m\u001b[38;5;241m.\u001b[39mColors  \u001b[38;5;66;03m# just a shorthand + quicker name lookup\u001b[39;00m\n\u001b[1;32m   1144\u001b[0m     colorsnormal \u001b[38;5;241m=\u001b[39m colors\u001b[38;5;241m.\u001b[39mNormal  \u001b[38;5;66;03m# used a lot\u001b[39;00m\n",
      "File \u001b[0;32m~/anaconda3/envs/hyperion/lib/python3.8/site-packages/IPython/core/ultratb.py:1030\u001b[0m, in \u001b[0;36mVerboseTB.format_exception_as_a_whole\u001b[0;34m(self, etype, evalue, etb, number_of_lines_of_context, tb_offset)\u001b[0m\n\u001b[1;32m   1027\u001b[0m \u001b[38;5;28;01massert\u001b[39;00m \u001b[38;5;28misinstance\u001b[39m(tb_offset, \u001b[38;5;28mint\u001b[39m)\n\u001b[1;32m   1028\u001b[0m head \u001b[38;5;241m=\u001b[39m \u001b[38;5;28mself\u001b[39m\u001b[38;5;241m.\u001b[39mprepare_header(\u001b[38;5;28mstr\u001b[39m(etype), \u001b[38;5;28mself\u001b[39m\u001b[38;5;241m.\u001b[39mlong_header)\n\u001b[1;32m   1029\u001b[0m records \u001b[38;5;241m=\u001b[39m (\n\u001b[0;32m-> 1030\u001b[0m     \u001b[38;5;28;43mself\u001b[39;49m\u001b[38;5;241;43m.\u001b[39;49m\u001b[43mget_records\u001b[49m\u001b[43m(\u001b[49m\u001b[43metb\u001b[49m\u001b[43m,\u001b[49m\u001b[43m \u001b[49m\u001b[43mnumber_of_lines_of_context\u001b[49m\u001b[43m,\u001b[49m\u001b[43m \u001b[49m\u001b[43mtb_offset\u001b[49m\u001b[43m)\u001b[49m \u001b[38;5;28;01mif\u001b[39;00m etb \u001b[38;5;28;01melse\u001b[39;00m []\n\u001b[1;32m   1031\u001b[0m )\n\u001b[1;32m   1033\u001b[0m frames \u001b[38;5;241m=\u001b[39m []\n\u001b[1;32m   1034\u001b[0m skipped \u001b[38;5;241m=\u001b[39m \u001b[38;5;241m0\u001b[39m\n",
      "File \u001b[0;32m~/anaconda3/envs/hyperion/lib/python3.8/site-packages/IPython/core/ultratb.py:1098\u001b[0m, in \u001b[0;36mVerboseTB.get_records\u001b[0;34m(self, etb, number_of_lines_of_context, tb_offset)\u001b[0m\n\u001b[1;32m   1096\u001b[0m \u001b[38;5;28;01mwhile\u001b[39;00m cf \u001b[38;5;129;01mis\u001b[39;00m \u001b[38;5;129;01mnot\u001b[39;00m \u001b[38;5;28;01mNone\u001b[39;00m:\n\u001b[1;32m   1097\u001b[0m     \u001b[38;5;28;01mtry\u001b[39;00m:\n\u001b[0;32m-> 1098\u001b[0m         mod \u001b[38;5;241m=\u001b[39m inspect\u001b[38;5;241m.\u001b[39mgetmodule(\u001b[43mcf\u001b[49m\u001b[38;5;241;43m.\u001b[39;49m\u001b[43mtb_frame\u001b[49m)\n\u001b[1;32m   1099\u001b[0m         \u001b[38;5;28;01mif\u001b[39;00m mod \u001b[38;5;129;01mis\u001b[39;00m \u001b[38;5;129;01mnot\u001b[39;00m \u001b[38;5;28;01mNone\u001b[39;00m:\n\u001b[1;32m   1100\u001b[0m             mod_name \u001b[38;5;241m=\u001b[39m mod\u001b[38;5;241m.\u001b[39m\u001b[38;5;18m__name__\u001b[39m\n",
      "\u001b[0;31mAttributeError\u001b[0m: 'tuple' object has no attribute 'tb_frame'"
     ]
    }
   ],
   "source": [
    "%run DISK/impute_dataset.py"
   ]
  },
  {
   "cell_type": "markdown",
   "id": "59c99ddc-0dd5-4330-9705-13529b8a1a18",
   "metadata": {},
   "source": [
    "---\n",
    "# How to prepare your own dataset"
   ]
  },
  {
   "cell_type": "markdown",
   "id": "0e7409d2-c8c7-4ab8-873e-3d4984bf99e6",
   "metadata": {},
   "source": [
    "## Create a *DISK dataset* from your data\n",
    "\n",
    "You would need to use he `create_dataset.py` script with the companion `conf_create_dataset.yaml` file.\n",
    "The first step is to load your own data.\n",
    "Currently supported formats are:\n",
    "- .h5 extracted from SLEAP (see https://sleap.ai/develop/tutorials/analysis.html)\n",
    "- .csv with column names 'keypoint1_x', 'keypoint1_y', ...\n",
    "<center><img src=\"notebooks/images/csv_input_format.png\" width=300></center>\n",
    "- .npy matrix of shape (but no keypoint names)\n",
    "- .mat exported from Qualisys software\n",
    "- .pkl data (used for Drosophila DF3D dataset)\n",
    "- others? You can write a small open function (as here https://github.com/bozeklab/DISK/blob/main/DISK/create_dataset.py#L76) or **open a github issue with a link to an example file so we write it for you**"
   ]
  },
  {
   "cell_type": "markdown",
   "id": "3c9316b3-e3d9-4565-a449-d45fb6e62bf9",
   "metadata": {},
   "source": [
    "## How to choose the parameters to create your own dataset\n",
    "- length of sequence / stride\n",
    "- fill\n",
    "- Link to FAQ (https://github.com/bozeklab/DISK/blob/main/FAQ.md)"
   ]
  },
  {
   "cell_type": "markdown",
   "id": "2b0b8d57-3bb2-460f-8aa0-d1c616336018",
   "metadata": {},
   "source": []
  },
  {
   "cell_type": "code",
   "execution_count": null,
   "id": "9c5d2881-8458-457b-838f-17341e1b51e2",
   "metadata": {},
   "outputs": [],
   "source": []
  }
 ],
 "metadata": {
  "kernelspec": {
   "display_name": "Python 3 (ipykernel)",
   "language": "python",
   "name": "python3"
  },
  "language_info": {
   "codemirror_mode": {
    "name": "ipython",
    "version": 3
   },
   "file_extension": ".py",
   "mimetype": "text/x-python",
   "name": "python",
   "nbconvert_exporter": "python",
   "pygments_lexer": "ipython3",
   "version": "3.8.8"
  }
 },
 "nbformat": 4,
 "nbformat_minor": 5
}
